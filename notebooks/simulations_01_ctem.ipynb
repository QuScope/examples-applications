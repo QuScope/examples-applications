{
 "cells": [
  {
   "cell_type": "markdown",
   "id": "d319111f",
   "metadata": {},
   "source": [
    "# Simulation of BF-CTEM Images in QuScope"
   ]
  },
  {
   "cell_type": "markdown",
   "id": "c8858a28",
   "metadata": {},
   "source": [
    "## Introduction\n",
    "In this notebook, we demonstrate how to simulate Bright Field Conventional Transmission Electron Microscopy (BF-CTEM). We replicate the results of Kirkland (2010) to validate our quantum-enhanced method. Here, we will start with a weak phase object (WPO) approximation for five elements, and transition to the multislice algorithm for GaAs.\n",
    "\n",
    "## Acknowledgements\n",
    "This tutorial was created by:\n",
    "- Sean D. Lam (s_lam2023@coloradocollege.edu)\n",
    "\n",
    "Updated 2025 Aug 05, version 0.1.0"
   ]
  },
  {
   "cell_type": "markdown",
   "id": "6451855f",
   "metadata": {},
   "source": []
  }
 ],
 "metadata": {
  "language_info": {
   "name": "python"
  }
 },
 "nbformat": 4,
 "nbformat_minor": 5
}
